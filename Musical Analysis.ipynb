{
 "cells": [
  {
   "cell_type": "code",
   "execution_count": 23,
   "id": "4e9b4446",
   "metadata": {},
   "outputs": [],
   "source": [
    "import numpy as np\n",
    "import pandas as pd\n",
    "import matplotlib.pyplot as plt\n",
    "import seaborn as sns"
   ]
  },
  {
   "cell_type": "markdown",
   "id": "fd8b4ff8",
   "metadata": {},
   "source": [
    "#### NOTE: Imported all the necessary packages."
   ]
  },
  {
   "cell_type": "code",
   "execution_count": 77,
   "id": "5853d7e7",
   "metadata": {},
   "outputs": [],
   "source": [
    "songs_2010 = pd.read_csv(\"2010.csv\")\n",
    "songs_2011 = pd.read_csv(\"2011.csv\")\n",
    "songs_2012 = pd.read_csv(\"2012.csv\")\n",
    "songs_2013 = pd.read_csv(\"2013.csv\")\n",
    "songs_2014 = pd.read_csv(\"2014.csv\")\n",
    "songs_2015 = pd.read_csv(\"2015.csv\")\n",
    "songs_2016 = pd.read_csv(\"2016.csv\")\n",
    "songs_2017 = pd.read_csv(\"2017.csv\")\n",
    "songs_2018 = pd.read_csv(\"2018.csv\")\n",
    "songs_2019 = pd.read_csv(\"2019.csv\")\n",
    "\n",
    "songs_2010.rename(columns = {\"Unnamed: 0\":\"ID\"}, inplace = True)\n",
    "songs_2011.rename(columns = {\"Unnamed: 0\":\"ID\"}, inplace = True)\n",
    "songs_2012.rename(columns = {\"Unnamed: 0\":\"ID\"}, inplace = True)\n",
    "songs_2013.rename(columns = {\"Unnamed: 0\":\"ID\"}, inplace = True)\n",
    "songs_2014.rename(columns = {\"Unnamed: 0\":\"ID\"}, inplace = True)\n",
    "songs_2015.rename(columns = {\"Unnamed: 0\":\"ID\"}, inplace = True)\n",
    "songs_2016.rename(columns = {\"Unnamed: 0\":\"ID\"}, inplace = True)\n",
    "songs_2017.rename(columns = {\"Unnamed: 0\":\"ID\"}, inplace = True)\n",
    "songs_2018.rename(columns = {\"Unnamed: 0\":\"ID\"}, inplace = True)\n",
    "songs_2019.rename(columns = {\"Unnamed: 0\":\"ID\"}, inplace = True)\n",
    "\n",
    "frames = [songs_2010, songs_2011, songs_2012, songs_2013, songs_2014, songs_2015, songs_2016, songs_2017, songs_2018, songs_2019]\n",
    "all_top_songs = pd.concat(frames)"
   ]
  },
  {
   "cell_type": "markdown",
   "id": "0482718b",
   "metadata": {},
   "source": [
    "#### NOTE: Collected all the csv files and made a list out of them and then concatanated all the elements of the list into one variable called all_top_songs."
   ]
  },
  {
   "cell_type": "code",
   "execution_count": 48,
   "id": "b64a6425",
   "metadata": {
    "scrolled": true
   },
   "outputs": [
    {
     "name": "stdout",
     "output_type": "stream",
     "text": [
      "<class 'pandas.core.frame.DataFrame'>\n",
      "Int64Index: 603 entries, 0 to 30\n",
      "Data columns (total 15 columns):\n",
      " #   Column     Non-Null Count  Dtype \n",
      "---  ------     --------------  ----- \n",
      " 0   ID         603 non-null    int64 \n",
      " 1   title      603 non-null    object\n",
      " 2   artist     603 non-null    object\n",
      " 3   top genre  603 non-null    object\n",
      " 4   year       603 non-null    int64 \n",
      " 5   bpm        603 non-null    int64 \n",
      " 6   nrgy       603 non-null    int64 \n",
      " 7   dnce       603 non-null    int64 \n",
      " 8   dB         603 non-null    int64 \n",
      " 9   live       603 non-null    int64 \n",
      " 10  val        603 non-null    int64 \n",
      " 11  dur        603 non-null    int64 \n",
      " 12  acous      603 non-null    int64 \n",
      " 13  spch       603 non-null    int64 \n",
      " 14  pop        603 non-null    int64 \n",
      "dtypes: int64(12), object(3)\n",
      "memory usage: 75.4+ KB\n"
     ]
    }
   ],
   "source": [
    "all_top_songs.info()"
   ]
  },
  {
   "cell_type": "markdown",
   "id": "ca265110",
   "metadata": {},
   "source": [
    "#### NOTE: The info() method shows us that all the required columns are either integer or floats or not objects."
   ]
  },
  {
   "cell_type": "code",
   "execution_count": 49,
   "id": "eed672ab",
   "metadata": {},
   "outputs": [
    {
     "name": "stdout",
     "output_type": "stream",
     "text": [
      "Most popular song in the dataset is: \n"
     ]
    },
    {
     "data": {
      "text/plain": [
       "0    Memories\n",
       "Name: title, dtype: object"
      ]
     },
     "execution_count": 49,
     "metadata": {},
     "output_type": "execute_result"
    }
   ],
   "source": [
    "most_popular_song = all_top_songs[\"pop\"].max()\n",
    "most_popular_song = all_top_songs.loc[all_top_songs[\"pop\"] == most_popular_song]\n",
    "print(\"Most popular song in the dataset is: \")\n",
    "most_popular_song[\"title\"]"
   ]
  },
  {
   "cell_type": "markdown",
   "id": "2dc0a5c3",
   "metadata": {},
   "source": [
    "#### NOTE: Most popular song is based on the maximum value of the pop column."
   ]
  },
  {
   "cell_type": "code",
   "execution_count": 55,
   "id": "0f1b67d4",
   "metadata": {},
   "outputs": [
    {
     "name": "stdout",
     "output_type": "stream",
     "text": [
      "The artist who has the most songs in the dataset is: \n"
     ]
    },
    {
     "data": {
      "text/plain": [
       "artist\n",
       "Katy Perry    17\n",
       "dtype: int64"
      ]
     },
     "execution_count": 55,
     "metadata": {},
     "output_type": "execute_result"
    }
   ],
   "source": [
    "artist_who_has_most_songs = all_top_songs.groupby(\"artist\")\n",
    "artist_who_has_most_songs = artist_who_has_most_songs.size().sort_values(ascending = False)\n",
    "print(\"The artist who has the most songs in the dataset is: \")\n",
    "artist_who_has_most_songs.head(1)"
   ]
  },
  {
   "cell_type": "markdown",
   "id": "1af25388",
   "metadata": {},
   "source": [
    "#### NOTE: Artist who has most songs is found by seeing which artist is present the most in the all_top_songs csv file. "
   ]
  },
  {
   "cell_type": "code",
   "execution_count": 57,
   "id": "d0a03702",
   "metadata": {},
   "outputs": [
    {
     "name": "stdout",
     "output_type": "stream",
     "text": [
      "Most popular genre in the dataset is: \n"
     ]
    },
    {
     "data": {
      "text/plain": [
       "top genre\n",
       "dance pop    327\n",
       "dtype: int64"
      ]
     },
     "execution_count": 57,
     "metadata": {},
     "output_type": "execute_result"
    }
   ],
   "source": [
    "most_popular_genre = all_top_songs.groupby(\"top genre\")\n",
    "most_popular_genre = most_popular_genre.size().sort_values(ascending = False)\n",
    "print(\"Most popular genre in the dataset is: \")\n",
    "most_popular_genre.head(1)"
   ]
  },
  {
   "cell_type": "markdown",
   "id": "de51491b",
   "metadata": {},
   "source": [
    "#### NOTE: Most popular genre is found by searching through the top genre column. The genre that is present most in the dataset is considered as the most popular genre"
   ]
  },
  {
   "cell_type": "code",
   "execution_count": 58,
   "id": "d369b0cd",
   "metadata": {},
   "outputs": [],
   "source": [
    "all_top_songs[\"title\"] = all_top_songs[\"title\"].str.strip()\n",
    "all_top_songs[\"artist\"] = all_top_songs[\"artist\"].str.strip()\n",
    "all_top_songs[\"top genre\"] = all_top_songs[\"top genre\"].str.strip()"
   ]
  },
  {
   "cell_type": "markdown",
   "id": "a8efe304",
   "metadata": {},
   "source": [
    "#### NOTE: Removed all unnecessary whitespaces."
   ]
  },
  {
   "cell_type": "code",
   "execution_count": 70,
   "id": "23117dc4",
   "metadata": {},
   "outputs": [
    {
     "name": "stdout",
     "output_type": "stream",
     "text": [
      "There are about 16 songs in the dataset that are present more than once\n"
     ]
    }
   ],
   "source": [
    "count = all_top_songs[all_top_songs.duplicated(subset = [\"title\", \"artist\"], keep = \"last\")].shape[0]\n",
    "print(f\"There are about {count} songs in the dataset that are present more than once\")"
   ]
  },
  {
   "cell_type": "markdown",
   "id": "9772c145",
   "metadata": {},
   "source": [
    "#### NOTE: Found all the duplicates. To find all the duplicates firstly we had to remove all the unnecessary whitespaces and then counted the number of songs based on both title and artist column to find the total number of duplicates."
   ]
  },
  {
   "cell_type": "code",
   "execution_count": 78,
   "id": "61d23eb4",
   "metadata": {},
   "outputs": [
    {
     "data": {
      "text/plain": [
       "<AxesSubplot:title={'center':'Relationship between popularity and dancability'}, xlabel='dnce'>"
      ]
     },
     "execution_count": 78,
     "metadata": {},
     "output_type": "execute_result"
    },
    {
     "data": {
      "image/png": "[encoded data removed]",
      "text/plain": [
       "<Figure size 432x288 with 1 Axes>"
      ]
     },
     "metadata": {
      "needs_background": "light"
     },
     "output_type": "display_data"
    }
   ],
   "source": [
    "all_top_songs.groupby([\"dnce\"]).sum().plot(kind=\"line\", color = \"#34282C\", title='Relationship between popularity and dancability', y=\"pop\")"
   ]
  },
  {
   "cell_type": "markdown",
   "id": "3dea00f7",
   "metadata": {},
   "source": [
    "#### NOTE: The graph shows us that as the popularity increases dancability of that song increases. "
   ]
  },
  {
   "cell_type": "code",
   "execution_count": 79,
   "id": "77ace210",
   "metadata": {},
   "outputs": [
    {
     "data": {
      "text/plain": [
       "<AxesSubplot:title={'center':'Relationship between bpm and energy level'}, xlabel='bpm'>"
      ]
     },
     "execution_count": 79,
     "metadata": {},
     "output_type": "execute_result"
    },
    {
     "data": {
      "image/png": "[encoded data removed]",
      "text/plain": [
       "<Figure size 432x288 with 1 Axes>"
      ]
     },
     "metadata": {
      "needs_background": "light"
     },
     "output_type": "display_data"
    }
   ],
   "source": [
    "all_top_songs.groupby([\"bpm\"]).sum().plot(kind=\"line\", color = \"#34282C\", title='Relationship between bpm and energy level', y=\"nrgy\")"
   ]
  },
  {
   "cell_type": "markdown",
   "id": "b2ad0184",
   "metadata": {},
   "source": [
    "#### NOTE: The graph shows us that as the higher the bpm, the higher the energy level. "
   ]
  },
  {
   "cell_type": "code",
   "execution_count": 75,
   "id": "12a40ca7",
   "metadata": {},
   "outputs": [
    {
     "name": "stdout",
     "output_type": "stream",
     "text": [
      "The genres that have highest energy are: \n"
     ]
    },
    {
     "data": {
      "text/plain": [
       "50    big room\n",
       "59    boy band\n",
       "Name: top genre, dtype: object"
      ]
     },
     "execution_count": 75,
     "metadata": {},
     "output_type": "execute_result"
    }
   ],
   "source": [
    "genre_that_has_highest_energy = all_top_songs[\"nrgy\"].max()\n",
    "genre_that_has_highest_energy = all_top_songs.loc[all_top_songs[\"nrgy\"] == genre_that_has_highest_energy]\n",
    "print(\"The genres that have highest energy are: \")\n",
    "genre_that_has_highest_energy[\"top genre\"]"
   ]
  },
  {
   "cell_type": "markdown",
   "id": "53b0ac29",
   "metadata": {},
   "source": [
    "#### NOTE: Two of the genres that has the highest energy and they are found in the nrgy column."
   ]
  },
  {
   "cell_type": "code",
   "execution_count": 85,
   "id": "3f72b93d",
   "metadata": {},
   "outputs": [],
   "source": [
    "all_top_songs.to_csv(r'top_spotify_songs.csv')"
   ]
  },
  {
   "cell_type": "markdown",
   "id": "1c036d98",
   "metadata": {},
   "source": [
    "#### NOTE: Exported the combined dataset into a new csv file named top_apotify_songs using the to_csv method."
   ]
  },
  {
   "cell_type": "code",
   "execution_count": 94,
   "id": "f8df330a",
   "metadata": {},
   "outputs": [
    {
     "name": "stdout",
     "output_type": "stream",
     "text": [
      "2.99% of songs may have been recorded live.\n"
     ]
    }
   ],
   "source": [
    "recorded_live = all_top_songs[all_top_songs[\"live\"]>=50]\n",
    "recorded_live = recorded_live[\"live\"].count()\n",
    "all_songs = all_top_songs.shape[0]\n",
    "percentage = recorded_live*100/all_songs\n",
    "print(f\"{percentage.round(2)}% of songs may have been recorded live.\")"
   ]
  },
  {
   "cell_type": "markdown",
   "id": "47edaf29",
   "metadata": {},
   "source": [
    "#### NOTE: The song that has been recorded most is based on the column live"
   ]
  },
  {
   "cell_type": "code",
   "execution_count": 97,
   "id": "28559ccb",
   "metadata": {},
   "outputs": [
    {
     "name": "stdout",
     "output_type": "stream",
     "text": [
      "7.63% of songs were acoustic.\n"
     ]
    }
   ],
   "source": [
    "acoustic = all_top_songs[all_top_songs[\"acous\"]>=50]\n",
    "acoustic = acoustic[\"acous\"].count()\n",
    "all_songs = all_top_songs.shape[0]\n",
    "percentage = acoustic*100/all_songs\n",
    "print(f\"{percentage.round(2)}% of songs were acoustic.\")"
   ]
  },
  {
   "cell_type": "markdown",
   "id": "006a8942",
   "metadata": {},
   "source": [
    "#### NOTE: The song that has been recorded most is based on the column live"
   ]
  }
 ],
 "metadata": {
  "kernelspec": {
   "display_name": "Python 3 (ipykernel)",
   "language": "python",
   "name": "python3"
  },
  "language_info": {
   "codemirror_mode": {
    "name": "ipython",
    "version": 3
   },
   "file_extension": ".py",
   "mimetype": "text/x-python",
   "name": "python",
   "nbconvert_exporter": "python",
   "pygments_lexer": "ipython3",
   "version": "3.9.12"
  }
 },
 "nbformat": 4,
 "nbformat_minor": 5
}
